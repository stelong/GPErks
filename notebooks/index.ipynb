{
 "cells": [
  {
   "cell_type": "markdown",
   "id": "f5be6bbf",
   "metadata": {},
   "source": [
    "<img src=\"data/images/GPErks_logo.png\" width=120 height=120 />\n",
    "\n",
    "# GPErks:\n",
    "### _a Python library to (bene)fit Gaussian Process Emulators_\n",
    "---\n",
    "<br/>\n",
    "\n",
    "### Tutorial Index\n",
    "\n",
    "1. [1D example (training, inference, posterior sampling)](./example_1.ipynb)\n",
    "2. [2D example (advanced inference, diagnostics)](./example_2.ipynb)\n",
    "3. [I/O handling (reproducible experiments, snapshotting)](./example_3.ipynb)\n",
    "4. [Training stats (losses monitoring, early stopping)](./example_4.ipynb)\n",
    "5. [K-fold cross-validation (Part 1 - accuracy)](./example_5.ipynb)\n",
    "6. [K-fold cross-validation (Part 2 - advanced training)](./example_6.ipynb)\n",
    "7. [Global sensitivity analysis (simulator- and emulator- based)](./example_7.ipynb)\n",
    "8. [GPE auto-training + GSA using external dataset (from publication) loaded from json file](./example_8.ipynb)\n",
    "9. [Showcasing new functionalities: automatic emulator hyperparameters' fitting + LinearMean module with higher than first degree polynomials + mean module fit inspection](./example_9.ipynb)\n",
    "10. [Principles of the Bayesian History Matching technique](./example_10.ipynb)\n",
    "11. [Bayesian History Matching technique (advanced use)](./example_11.ipynb)"
   ]
  }
 ],
 "metadata": {
  "kernelspec": {
   "display_name": "Python 3 (ipykernel)",
   "language": "python",
   "name": "python3"
  },
  "language_info": {
   "codemirror_mode": {
    "name": "ipython",
    "version": 3
   },
   "file_extension": ".py",
   "mimetype": "text/x-python",
   "name": "python",
   "nbconvert_exporter": "python",
   "pygments_lexer": "ipython3",
   "version": "3.8.0"
  }
 },
 "nbformat": 4,
 "nbformat_minor": 5
}
