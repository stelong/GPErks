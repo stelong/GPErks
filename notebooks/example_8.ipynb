{
 "cells": [
  {
   "cell_type": "markdown",
   "id": "9d13b8ca",
   "metadata": {},
   "source": [
    "# 8. GPE auto-training + GSA using external dataset (from publication) loaded from json file"
   ]
  },
  {
   "cell_type": "code",
   "execution_count": 1,
   "id": "1b7a3538",
   "metadata": {},
   "outputs": [
    {
     "name": "stderr",
     "output_type": "stream",
     "text": [
      "/Users/slongobardi/Projects/GPErks/.venv/lib/python3.12/site-packages/tqdm/auto.py:21: TqdmWarning: IProgress not found. Please update jupyter and ipywidgets. See https://ipywidgets.readthedocs.io/en/stable/user_install.html\n",
      "  from .autonotebook import tqdm as notebook_tqdm\n"
     ]
    }
   ],
   "source": [
    "import os\n",
    "\n",
    "import torch\n",
    "from gpytorch.kernels import MaternKernel, ScaleKernel\n",
    "from gpytorch.likelihoods import GaussianLikelihood\n",
    "from gpytorch.means import LinearMean\n",
    "\n",
    "from GPErks.constants import DEFAULT_RANDOM_SEED\n",
    "from GPErks.gp.data.dataset import Dataset\n",
    "from GPErks.gp.experiment import GPExperiment\n",
    "from GPErks.gp.mean import LinearMean\n",
    "from GPErks.perks.gsa import SobolGSA\n",
    "from GPErks.serialization.path import posix_path\n",
    "from GPErks.train.emulator import GPEmulator\n",
    "from GPErks.utils.random import set_seed"
   ]
  },
  {
   "cell_type": "code",
   "execution_count": 2,
   "id": "bfa2dc16",
   "metadata": {},
   "outputs": [],
   "source": [
    "seed = DEFAULT_RANDOM_SEED\n",
    "set_seed(seed)"
   ]
  },
  {
   "cell_type": "code",
   "execution_count": 4,
   "id": "b680ec81",
   "metadata": {},
   "outputs": [
    {
     "name": "stdout",
     "output_type": "stream",
     "text": [
      "['EDV', 'ESV', 'SV', 'EF', 'IVCT', 'ET', 'IVRT', 'Tdiast', 'PeakP', 'Tpeak', 'ESP', 'maxdP', 'mindP', 'Tau']\n"
     ]
    }
   ],
   "source": [
    "# This new method loads your dataset into a dictionary where keys = features, values = Dataset objects\n",
    "# (each Dataset is built to create the experiment that will emulate the corresponding scalar feature (key))\n",
    "datasets = Dataset.build_from_file(posix_path(os.getcwd(), \"data\", \"datasets\", \"Stefano_16p.json\"))\n",
    "features = list(datasets.keys())\n",
    "print(features)  # available features to be emulated"
   ]
  },
  {
   "cell_type": "markdown",
   "id": "514bb12b",
   "metadata": {},
   "source": [
    "Note: if you want to create a .json file containing your dataset, you can do so like this:\n",
    "X = np.loadtxt(data_dir / \"X.txt\", dtype=float)\n",
    "Y = np.loadtxt(data_dir / \"Y.txt\", dtype=float)\n",
    "xlabels = read_labels_from_file(data_dir / \"xlabels.txt\")\n",
    "ylabels = read_labels_from_file(data_dir / \"ylabels.txt\")\n",
    "data_dct = {\n",
    "    \"X_train\": X.tolist(),\n",
    "    \"Y_train\": Y.tolist(),\n",
    "    \"X_val\": X_val.tolist(), # (if available, otherwise can omit this dct key)\n",
    "    \"Y_val\": Y_val.tolist(), # (if available, otherwise can omit this dct key)\n",
    "    \"X_test\": X_test.tolist(), # (if available, otherwise can omit this dct key)\n",
    "    \"Y_test\": Y_test.tolist(), # (if available, otherwise can omit this dct key)\n",
    "    \"x_labels\": xlabels,  # (if available, otherwise can omit this dct key)\n",
    "    \"y_labels\": ylabels,  # (if available, otherwise can omit this dct key)\n",
    "    \"l_bounds\": a list here (if available, otherwise can omit this dct key)\n",
    "    \"u_bounds\": a list here (if available, otherwise can omit this dct key)\n",
    "    \"info\": \"A short description about the dataset\"\n",
    "}\n",
    "with open(Path(os.getcwd())/\"datasetname.json\", \"w\") as f:\n",
    "    json.dump(data_dct, f, indent=4)\n",
    "\n",
    "Also note that there is already a utility function that does this for you:\n",
    "from GPErks.utils.jsonfiles import create_json_dataset_from_arrays"
   ]
  },
  {
   "cell_type": "code",
   "execution_count": 5,
   "id": "51bba279",
   "metadata": {},
   "outputs": [
    {
     "name": "stdout",
     "output_type": "stream",
     "text": [
      "\n",
      "Emulating target feature: EDV\n"
     ]
    },
    {
     "name": "stderr",
     "output_type": "stream",
     "text": [
      "INFO:2025-05-16 17:08:45,737:emulator:train_auto:L205: Training emulator...\n",
      "INFO:2025-05-16 17:08:49,764:emulator:train_auto:L207: Trained emulator.\n",
      "INFO:2025-05-16 17:08:49,765:emulator:train_auto:L209: Saving model...\n",
      "INFO:2025-05-16 17:08:49,768:emulator:train_auto:L214: Saved model.\n"
     ]
    },
    {
     "name": "stdout",
     "output_type": "stream",
     "text": [
      "\n",
      "Bias: -4.1422\n",
      "Weights: tensor([-4.0596, -0.0233, -0.0120, -0.1738,  0.6366,  0.0304, -0.0488, -0.5169,\n",
      "         2.3549, -0.3759,  1.2784,  3.2430, -0.0410,  0.9869,  1.2497, -0.2960])\n",
      "Outputscale: 2.4444\n",
      "Lengthscales: tensor([ 0.5251,  4.2436, 36.7171,  4.0739,  3.3087, 35.8495, 34.9706,  1.7403,\n",
      "         0.9238,  2.9991,  1.4824,  0.6466, 41.0917,  1.3813,  1.7957,  8.7669])\n",
      "Likelihood noise: 0.0001\n"
     ]
    }
   ],
   "source": [
    "feature = \"EDV\"  # we will emulate just one feature as an example\n",
    "print(f\"\\nEmulating target feature: {feature}\")\n",
    "\n",
    "# GPE auto-training\n",
    "dataset = datasets[feature]\n",
    "likelihood = GaussianLikelihood()\n",
    "mean = LinearMean(degree=1, input_size=dataset.input_size, bias=True)\n",
    "covariance = ScaleKernel(MaternKernel(ard_num_dims=dataset.input_size))\n",
    "experiment = GPExperiment(\n",
    "    dataset,\n",
    "    likelihood,\n",
    "    mean,\n",
    "    covariance,\n",
    "    seed=seed\n",
    ")\n",
    "device = \"cuda\" if torch.cuda.is_available() else \"cpu\"\n",
    "emulator = GPEmulator(experiment, device)\n",
    "emulator.train_auto()\n",
    "emulator.hyperparameters()"
   ]
  },
  {
   "cell_type": "code",
   "execution_count": 6,
   "id": "94f1e704",
   "metadata": {},
   "outputs": [
    {
     "name": "stderr",
     "output_type": "stream",
     "text": [
      "/Users/slongobardi/Projects/GPErks/.venv/lib/python3.12/site-packages/linear_operator/utils/cholesky.py:40: NumericalWarning: A not p.d., added jitter of 1.0e-06 to the diagonal\n",
      "  warnings.warn(\n",
      "/Users/slongobardi/Projects/GPErks/.venv/lib/python3.12/site-packages/linear_operator/utils/cholesky.py:40: NumericalWarning: A not p.d., added jitter of 1.0e-05 to the diagonal\n",
      "  warnings.warn(\n",
      "/Users/slongobardi/Projects/GPErks/.venv/lib/python3.12/site-packages/linear_operator/utils/cholesky.py:40: NumericalWarning: A not p.d., added jitter of 1.0e-04 to the diagonal\n",
      "  warnings.warn(\n"
     ]
    },
    {
     "name": "stdout",
     "output_type": "stream",
     "text": [
      "                STi\n",
      "Parameter          \n",
      "AMPL       0.000000\n",
      "C1         0.028453\n",
      "Ca50       0.209398\n",
      "DCA        0.432353\n",
      "RT50       0.000000\n",
      "TP         0.000000\n",
      "TRPN50     0.067450\n",
      "Tref       0.000000\n",
      "Z          0.000000\n",
      "beta1      0.000000\n",
      "kXB        0.000000\n",
      "koff       0.072234\n",
      "nTRPN      0.357169\n",
      "nXB        0.052619\n",
      "p          0.022947\n",
      "pao        0.000000\n",
      "                 Si\n",
      "Parameter          \n",
      "AMPL       0.000000\n",
      "C1         0.012115\n",
      "Ca50       0.118120\n",
      "DCA        0.309012\n",
      "RT50       0.000000\n",
      "TP         0.000000\n",
      "TRPN50     0.029426\n",
      "Tref       0.000000\n",
      "Z          0.000000\n",
      "beta1      0.000000\n",
      "kXB        0.000000\n",
      "koff       0.033971\n",
      "nTRPN      0.267593\n",
      "nXB        0.026169\n",
      "p          0.011966\n",
      "pao        0.000000\n"
     ]
    }
   ],
   "source": [
    "# GPE-based GSA\n",
    "gsa = SobolGSA(dataset, n=1024, seed=seed)\n",
    "gsa.estimate_Sobol_indices_with_emulator(emulator, n_draws=1000)\n",
    "gsa.correct_Sobol_indices(threshold=1e-2)\n",
    "gsa.summary()"
   ]
  },
  {
   "cell_type": "code",
   "execution_count": 7,
   "id": "f10b22f6",
   "metadata": {},
   "outputs": [
    {
     "data": {
      "image/png": "[encoded data removed]",
      "text/plain": [
       "<Figure size 800x550 with 1 Axes>"
      ]
     },
     "metadata": {},
     "output_type": "display_data"
    }
   ],
   "source": [
    "# plotting estimated Sobol' indices\n",
    "import matplotlib.pyplot as plt\n",
    "plt.style.use(\"seaborn-v0_8\")\n",
    "fig, axis = plt.subplots(1, 1)\n",
    "gsa.plot(axis=axis, type=\"bar\", colors=\"tab10\")\n",
    "axis.set_title(f\"{feature} global sensitivity indices\", fontweight=\"bold\")\n",
    "fig.tight_layout()\n",
    "plt.show()"
   ]
  }
 ],
 "metadata": {
  "kernelspec": {
   "display_name": ".venv",
   "language": "python",
   "name": "python3"
  },
  "language_info": {
   "codemirror_mode": {
    "name": "ipython",
    "version": 3
   },
   "file_extension": ".py",
   "mimetype": "text/x-python",
   "name": "python",
   "nbconvert_exporter": "python",
   "pygments_lexer": "ipython3",
   "version": "3.12.6"
  }
 },
 "nbformat": 4,
 "nbformat_minor": 5
}
